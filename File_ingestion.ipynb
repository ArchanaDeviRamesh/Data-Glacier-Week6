{
 "cells": [
  {
   "cell_type": "markdown",
   "id": "17969f9a",
   "metadata": {},
   "source": [
    "# 2GB file is downloaded from\n",
    "# https://www.kaggle.com/datasets/hhs/health-insurance-marketplace?select=Rate.csv \n",
    "\n"
   ]
  },
  {
   "cell_type": "markdown",
   "id": "2abcd444",
   "metadata": {},
   "source": [
    "Rate.csv renamed as health_insurance.csv "
   ]
  },
  {
   "cell_type": "markdown",
   "id": "6c030bce",
   "metadata": {},
   "source": [
    "# Reading data with pandas"
   ]
  },
  {
   "cell_type": "code",
   "execution_count": 4,
   "id": "fbeb36a5",
   "metadata": {},
   "outputs": [],
   "source": [
    "import pandas as pd"
   ]
  },
  {
   "cell_type": "code",
   "execution_count": 5,
   "id": "b127d786",
   "metadata": {
    "scrolled": true
   },
   "outputs": [
    {
     "name": "stdout",
     "output_type": "stream",
     "text": [
      "Wall time: 23.5 s\n"
     ]
    },
    {
     "data": {
      "text/html": [
       "<div>\n",
       "<style scoped>\n",
       "    .dataframe tbody tr th:only-of-type {\n",
       "        vertical-align: middle;\n",
       "    }\n",
       "\n",
       "    .dataframe tbody tr th {\n",
       "        vertical-align: top;\n",
       "    }\n",
       "\n",
       "    .dataframe thead th {\n",
       "        text-align: right;\n",
       "    }\n",
       "</style>\n",
       "<table border=\"1\" class=\"dataframe\">\n",
       "  <thead>\n",
       "    <tr style=\"text-align: right;\">\n",
       "      <th></th>\n",
       "      <th>BusinessYear</th>\n",
       "      <th>StateCode</th>\n",
       "      <th>IssuerId</th>\n",
       "      <th>SourceName</th>\n",
       "      <th>VersionNum</th>\n",
       "      <th>ImportDate</th>\n",
       "      <th>IssuerId2</th>\n",
       "      <th>FederalTIN</th>\n",
       "      <th>RateEffectiveDate</th>\n",
       "      <th>RateExpirationDate</th>\n",
       "      <th>...</th>\n",
       "      <th>IndividualRate</th>\n",
       "      <th>IndividualTobaccoRate</th>\n",
       "      <th>Couple</th>\n",
       "      <th>PrimarySubscriberAndOneDependent</th>\n",
       "      <th>PrimarySubscriberAndTwoDependents</th>\n",
       "      <th>PrimarySubscriberAndThreeOrMoreDependents</th>\n",
       "      <th>CoupleAndOneDependent</th>\n",
       "      <th>CoupleAndTwoDependents</th>\n",
       "      <th>CoupleAndThreeOrMoreDependents</th>\n",
       "      <th>RowNumber</th>\n",
       "    </tr>\n",
       "  </thead>\n",
       "  <tbody>\n",
       "    <tr>\n",
       "      <th>0</th>\n",
       "      <td>2014</td>\n",
       "      <td>AK</td>\n",
       "      <td>21989</td>\n",
       "      <td>HIOS</td>\n",
       "      <td>6</td>\n",
       "      <td>2014-03-19 07:06:49</td>\n",
       "      <td>21989</td>\n",
       "      <td>93-0438772</td>\n",
       "      <td>2014-01-01</td>\n",
       "      <td>2014-12-31</td>\n",
       "      <td>...</td>\n",
       "      <td>29.00</td>\n",
       "      <td>NaN</td>\n",
       "      <td>NaN</td>\n",
       "      <td>NaN</td>\n",
       "      <td>NaN</td>\n",
       "      <td>NaN</td>\n",
       "      <td>NaN</td>\n",
       "      <td>NaN</td>\n",
       "      <td>NaN</td>\n",
       "      <td>14</td>\n",
       "    </tr>\n",
       "    <tr>\n",
       "      <th>1</th>\n",
       "      <td>2014</td>\n",
       "      <td>AK</td>\n",
       "      <td>21989</td>\n",
       "      <td>HIOS</td>\n",
       "      <td>6</td>\n",
       "      <td>2014-03-19 07:06:49</td>\n",
       "      <td>21989</td>\n",
       "      <td>93-0438772</td>\n",
       "      <td>2014-01-01</td>\n",
       "      <td>2014-12-31</td>\n",
       "      <td>...</td>\n",
       "      <td>36.95</td>\n",
       "      <td>NaN</td>\n",
       "      <td>73.9</td>\n",
       "      <td>107.61</td>\n",
       "      <td>107.61</td>\n",
       "      <td>107.61</td>\n",
       "      <td>144.56</td>\n",
       "      <td>144.56</td>\n",
       "      <td>144.56</td>\n",
       "      <td>14</td>\n",
       "    </tr>\n",
       "    <tr>\n",
       "      <th>2</th>\n",
       "      <td>2014</td>\n",
       "      <td>AK</td>\n",
       "      <td>21989</td>\n",
       "      <td>HIOS</td>\n",
       "      <td>6</td>\n",
       "      <td>2014-03-19 07:06:49</td>\n",
       "      <td>21989</td>\n",
       "      <td>93-0438772</td>\n",
       "      <td>2014-01-01</td>\n",
       "      <td>2014-12-31</td>\n",
       "      <td>...</td>\n",
       "      <td>36.95</td>\n",
       "      <td>NaN</td>\n",
       "      <td>73.9</td>\n",
       "      <td>107.61</td>\n",
       "      <td>107.61</td>\n",
       "      <td>107.61</td>\n",
       "      <td>144.56</td>\n",
       "      <td>144.56</td>\n",
       "      <td>144.56</td>\n",
       "      <td>15</td>\n",
       "    </tr>\n",
       "    <tr>\n",
       "      <th>3</th>\n",
       "      <td>2014</td>\n",
       "      <td>AK</td>\n",
       "      <td>21989</td>\n",
       "      <td>HIOS</td>\n",
       "      <td>6</td>\n",
       "      <td>2014-03-19 07:06:49</td>\n",
       "      <td>21989</td>\n",
       "      <td>93-0438772</td>\n",
       "      <td>2014-01-01</td>\n",
       "      <td>2014-12-31</td>\n",
       "      <td>...</td>\n",
       "      <td>32.00</td>\n",
       "      <td>NaN</td>\n",
       "      <td>NaN</td>\n",
       "      <td>NaN</td>\n",
       "      <td>NaN</td>\n",
       "      <td>NaN</td>\n",
       "      <td>NaN</td>\n",
       "      <td>NaN</td>\n",
       "      <td>NaN</td>\n",
       "      <td>15</td>\n",
       "    </tr>\n",
       "    <tr>\n",
       "      <th>4</th>\n",
       "      <td>2014</td>\n",
       "      <td>AK</td>\n",
       "      <td>21989</td>\n",
       "      <td>HIOS</td>\n",
       "      <td>6</td>\n",
       "      <td>2014-03-19 07:06:49</td>\n",
       "      <td>21989</td>\n",
       "      <td>93-0438772</td>\n",
       "      <td>2014-01-01</td>\n",
       "      <td>2014-12-31</td>\n",
       "      <td>...</td>\n",
       "      <td>32.00</td>\n",
       "      <td>NaN</td>\n",
       "      <td>NaN</td>\n",
       "      <td>NaN</td>\n",
       "      <td>NaN</td>\n",
       "      <td>NaN</td>\n",
       "      <td>NaN</td>\n",
       "      <td>NaN</td>\n",
       "      <td>NaN</td>\n",
       "      <td>16</td>\n",
       "    </tr>\n",
       "  </tbody>\n",
       "</table>\n",
       "<p>5 rows × 24 columns</p>\n",
       "</div>"
      ],
      "text/plain": [
       "   BusinessYear StateCode  IssuerId SourceName  VersionNum  \\\n",
       "0          2014        AK     21989       HIOS           6   \n",
       "1          2014        AK     21989       HIOS           6   \n",
       "2          2014        AK     21989       HIOS           6   \n",
       "3          2014        AK     21989       HIOS           6   \n",
       "4          2014        AK     21989       HIOS           6   \n",
       "\n",
       "            ImportDate  IssuerId2  FederalTIN RateEffectiveDate  \\\n",
       "0  2014-03-19 07:06:49      21989  93-0438772        2014-01-01   \n",
       "1  2014-03-19 07:06:49      21989  93-0438772        2014-01-01   \n",
       "2  2014-03-19 07:06:49      21989  93-0438772        2014-01-01   \n",
       "3  2014-03-19 07:06:49      21989  93-0438772        2014-01-01   \n",
       "4  2014-03-19 07:06:49      21989  93-0438772        2014-01-01   \n",
       "\n",
       "  RateExpirationDate  ... IndividualRate IndividualTobaccoRate Couple  \\\n",
       "0         2014-12-31  ...          29.00                   NaN    NaN   \n",
       "1         2014-12-31  ...          36.95                   NaN   73.9   \n",
       "2         2014-12-31  ...          36.95                   NaN   73.9   \n",
       "3         2014-12-31  ...          32.00                   NaN    NaN   \n",
       "4         2014-12-31  ...          32.00                   NaN    NaN   \n",
       "\n",
       "  PrimarySubscriberAndOneDependent  PrimarySubscriberAndTwoDependents  \\\n",
       "0                              NaN                                NaN   \n",
       "1                           107.61                             107.61   \n",
       "2                           107.61                             107.61   \n",
       "3                              NaN                                NaN   \n",
       "4                              NaN                                NaN   \n",
       "\n",
       "   PrimarySubscriberAndThreeOrMoreDependents  CoupleAndOneDependent  \\\n",
       "0                                        NaN                    NaN   \n",
       "1                                     107.61                 144.56   \n",
       "2                                     107.61                 144.56   \n",
       "3                                        NaN                    NaN   \n",
       "4                                        NaN                    NaN   \n",
       "\n",
       "   CoupleAndTwoDependents  CoupleAndThreeOrMoreDependents  RowNumber  \n",
       "0                     NaN                             NaN         14  \n",
       "1                  144.56                          144.56         14  \n",
       "2                  144.56                          144.56         15  \n",
       "3                     NaN                             NaN         15  \n",
       "4                     NaN                             NaN         16  \n",
       "\n",
       "[5 rows x 24 columns]"
      ]
     },
     "execution_count": 5,
     "metadata": {},
     "output_type": "execute_result"
    }
   ],
   "source": [
    "%%time\n",
    "df = pd.read_csv('health_insurance.csv')\n",
    "df.head()"
   ]
  },
  {
   "cell_type": "markdown",
   "id": "3b4a380d",
   "metadata": {},
   "source": [
    "Reading the 2GB csv file took 23.5 s using pandas"
   ]
  },
  {
   "cell_type": "markdown",
   "id": "2f8a0255",
   "metadata": {},
   "source": [
    "# Reading data with modin and ray"
   ]
  },
  {
   "cell_type": "code",
   "execution_count": 12,
   "id": "8f2c853b",
   "metadata": {
    "collapsed": true
   },
   "outputs": [
    {
     "name": "stdout",
     "output_type": "stream",
     "text": [
      "Requirement already satisfied: modin[all] in c:\\users\\archa\\anaconda3\\lib\\site-packages (0.18.0)\n",
      "Requirement already satisfied: numpy>=1.18.5 in c:\\users\\archa\\anaconda3\\lib\\site-packages (from modin[all]) (1.20.3)\n",
      "Requirement already satisfied: psutil in c:\\users\\archa\\anaconda3\\lib\\site-packages (from modin[all]) (5.8.0)\n",
      "Requirement already satisfied: packaging in c:\\users\\archa\\anaconda3\\lib\\site-packages (from modin[all]) (21.0)\n",
      "Requirement already satisfied: pandas==1.5.2 in c:\\users\\archa\\anaconda3\\lib\\site-packages (from modin[all]) (1.5.2)\n",
      "Requirement already satisfied: fsspec in c:\\users\\archa\\anaconda3\\lib\\site-packages (from modin[all]) (2021.10.1)\n",
      "Requirement already satisfied: distributed>=2.22.0 in c:\\users\\archa\\anaconda3\\lib\\site-packages (from modin[all]) (2021.10.0)\n",
      "Collecting rpyc==4.1.5\n",
      "  Downloading rpyc-4.1.5-py3-none-any.whl (68 kB)\n",
      "     -------------------------------------- 68.9/68.9 kB 946.3 kB/s eta 0:00:00\n",
      "Collecting modin-spreadsheet>=0.1.0\n",
      "  Downloading modin_spreadsheet-0.1.2-py2.py3-none-any.whl (1.8 MB)\n",
      "     ---------------------------------------- 1.8/1.8 MB 8.3 MB/s eta 0:00:00\n",
      "Requirement already satisfied: dask>=2.22.0 in c:\\users\\archa\\anaconda3\\lib\\site-packages (from modin[all]) (2021.10.0)\n",
      "Requirement already satisfied: pyarrow in c:\\users\\archa\\anaconda3\\lib\\site-packages (from modin[all]) (10.0.1)\n",
      "Collecting unidist[mpi]>=0.2.1\n",
      "  Downloading unidist-0.2.1-py3-none-any.whl (102 kB)\n",
      "     -------------------------------------- 102.6/102.6 kB 5.8 MB/s eta 0:00:00\n",
      "Requirement already satisfied: ray[default]>=1.13.0 in c:\\users\\archa\\anaconda3\\lib\\site-packages (from modin[all]) (2.2.0)\n",
      "Requirement already satisfied: cloudpickle in c:\\users\\archa\\anaconda3\\lib\\site-packages (from modin[all]) (2.0.0)\n",
      "Requirement already satisfied: boto3 in c:\\users\\archa\\anaconda3\\lib\\site-packages (from modin[all]) (1.23.4)\n",
      "Requirement already satisfied: python-dateutil>=2.8.1 in c:\\users\\archa\\anaconda3\\lib\\site-packages (from pandas==1.5.2->modin[all]) (2.8.2)\n",
      "Requirement already satisfied: pytz>=2020.1 in c:\\users\\archa\\anaconda3\\lib\\site-packages (from pandas==1.5.2->modin[all]) (2021.3)\n",
      "Collecting plumbum\n",
      "  Downloading plumbum-1.8.1-py3-none-any.whl (126 kB)\n",
      "     -------------------------------------- 126.7/126.7 kB 7.3 MB/s eta 0:00:00\n",
      "Requirement already satisfied: partd>=0.3.10 in c:\\users\\archa\\anaconda3\\lib\\site-packages (from dask>=2.22.0->modin[all]) (1.2.0)\n",
      "Requirement already satisfied: pyyaml in c:\\users\\archa\\anaconda3\\lib\\site-packages (from dask>=2.22.0->modin[all]) (5.4.1)\n",
      "Requirement already satisfied: toolz>=0.8.2 in c:\\users\\archa\\anaconda3\\lib\\site-packages (from dask>=2.22.0->modin[all]) (0.11.1)\n",
      "Requirement already satisfied: tblib>=1.6.0 in c:\\users\\archa\\anaconda3\\lib\\site-packages (from distributed>=2.22.0->modin[all]) (1.7.0)\n",
      "Requirement already satisfied: setuptools in c:\\users\\archa\\anaconda3\\lib\\site-packages (from distributed>=2.22.0->modin[all]) (62.3.2)\n",
      "Requirement already satisfied: zict>=0.1.3 in c:\\users\\archa\\anaconda3\\lib\\site-packages (from distributed>=2.22.0->modin[all]) (2.0.0)\n",
      "Requirement already satisfied: tornado>=6.0.3 in c:\\users\\archa\\anaconda3\\lib\\site-packages (from distributed>=2.22.0->modin[all]) (6.1)\n",
      "Requirement already satisfied: jinja2 in c:\\users\\archa\\anaconda3\\lib\\site-packages (from distributed>=2.22.0->modin[all]) (2.11.3)\n",
      "Requirement already satisfied: msgpack>=0.6.0 in c:\\users\\archa\\anaconda3\\lib\\site-packages (from distributed>=2.22.0->modin[all]) (1.0.2)\n",
      "Requirement already satisfied: sortedcontainers!=2.0.0,!=2.0.1 in c:\\users\\archa\\anaconda3\\lib\\site-packages (from distributed>=2.22.0->modin[all]) (2.4.0)\n",
      "Requirement already satisfied: click>=6.6 in c:\\users\\archa\\anaconda3\\lib\\site-packages (from distributed>=2.22.0->modin[all]) (8.0.0)\n",
      "Requirement already satisfied: jupyter>=1.0.0 in c:\\users\\archa\\anaconda3\\lib\\site-packages (from modin-spreadsheet>=0.1.0->modin[all]) (1.0.0)\n",
      "Requirement already satisfied: notebook>=6.0.3 in c:\\users\\archa\\anaconda3\\lib\\site-packages (from modin-spreadsheet>=0.1.0->modin[all]) (6.4.5)\n",
      "Requirement already satisfied: ipywidgets>=7.0.0 in c:\\users\\archa\\anaconda3\\lib\\site-packages (from modin-spreadsheet>=0.1.0->modin[all]) (7.6.5)\n",
      "Requirement already satisfied: pyparsing>=2.0.2 in c:\\users\\archa\\anaconda3\\lib\\site-packages (from packaging->modin[all]) (3.0.4)\n",
      "Requirement already satisfied: attrs in c:\\users\\archa\\anaconda3\\lib\\site-packages (from ray[default]>=1.13.0->modin[all]) (21.2.0)\n",
      "Requirement already satisfied: filelock in c:\\users\\archa\\anaconda3\\lib\\site-packages (from ray[default]>=1.13.0->modin[all]) (3.9.0)\n",
      "Requirement already satisfied: protobuf!=3.19.5,>=3.15.3 in c:\\users\\archa\\anaconda3\\lib\\site-packages (from ray[default]>=1.13.0->modin[all]) (4.21.12)\n",
      "Requirement already satisfied: requests in c:\\users\\archa\\anaconda3\\lib\\site-packages (from ray[default]>=1.13.0->modin[all]) (2.26.0)\n",
      "Requirement already satisfied: grpcio>=1.32.0 in c:\\users\\archa\\anaconda3\\lib\\site-packages (from ray[default]>=1.13.0->modin[all]) (1.44.0)\n",
      "Requirement already satisfied: frozenlist in c:\\users\\archa\\anaconda3\\lib\\site-packages (from ray[default]>=1.13.0->modin[all]) (1.3.3)\n",
      "Requirement already satisfied: virtualenv>=20.0.24 in c:\\users\\archa\\anaconda3\\lib\\site-packages (from ray[default]>=1.13.0->modin[all]) (20.17.1)\n",
      "Requirement already satisfied: aiosignal in c:\\users\\archa\\anaconda3\\lib\\site-packages (from ray[default]>=1.13.0->modin[all]) (1.3.1)\n",
      "Requirement already satisfied: jsonschema in c:\\users\\archa\\anaconda3\\lib\\site-packages (from ray[default]>=1.13.0->modin[all]) (3.2.0)\n",
      "Requirement already satisfied: pydantic in c:\\users\\archa\\anaconda3\\lib\\site-packages (from ray[default]>=1.13.0->modin[all]) (1.10.4)\n",
      "Requirement already satisfied: py-spy>=0.2.0 in c:\\users\\archa\\anaconda3\\lib\\site-packages (from ray[default]>=1.13.0->modin[all]) (0.3.14)\n",
      "Requirement already satisfied: prometheus-client<0.14.0,>=0.7.1 in c:\\users\\archa\\anaconda3\\lib\\site-packages (from ray[default]>=1.13.0->modin[all]) (0.11.0)\n",
      "Requirement already satisfied: opencensus in c:\\users\\archa\\anaconda3\\lib\\site-packages (from ray[default]>=1.13.0->modin[all]) (0.11.0)\n",
      "Requirement already satisfied: colorful in c:\\users\\archa\\anaconda3\\lib\\site-packages (from ray[default]>=1.13.0->modin[all]) (0.5.5)\n",
      "Requirement already satisfied: smart-open in c:\\users\\archa\\anaconda3\\lib\\site-packages (from ray[default]>=1.13.0->modin[all]) (6.0.0)\n",
      "Requirement already satisfied: gpustat>=1.0.0 in c:\\users\\archa\\anaconda3\\lib\\site-packages (from ray[default]>=1.13.0->modin[all]) (1.0.0)\n",
      "Requirement already satisfied: aiohttp>=3.7 in c:\\users\\archa\\anaconda3\\lib\\site-packages (from ray[default]>=1.13.0->modin[all]) (3.8.3)\n",
      "Requirement already satisfied: aiohttp-cors in c:\\users\\archa\\anaconda3\\lib\\site-packages (from ray[default]>=1.13.0->modin[all]) (0.7.0)\n",
      "Collecting mpi4py-mpich\n",
      "  Downloading mpi4py_mpich-3.1.2-cp39-cp39-win_amd64.whl (2.0 MB)\n",
      "     ---------------------------------------- 2.0/2.0 MB 20.8 MB/s eta 0:00:00\n",
      "Requirement already satisfied: jmespath<2.0.0,>=0.7.1 in c:\\users\\archa\\anaconda3\\lib\\site-packages (from boto3->modin[all]) (1.0.0)\n",
      "Requirement already satisfied: s3transfer<0.6.0,>=0.5.0 in c:\\users\\archa\\anaconda3\\lib\\site-packages (from boto3->modin[all]) (0.5.2)\n",
      "Requirement already satisfied: botocore<1.27.0,>=1.26.4 in c:\\users\\archa\\anaconda3\\lib\\site-packages (from boto3->modin[all]) (1.26.4)\n",
      "Requirement already satisfied: multidict<7.0,>=4.5 in c:\\users\\archa\\anaconda3\\lib\\site-packages (from aiohttp>=3.7->ray[default]>=1.13.0->modin[all]) (6.0.4)\n",
      "Requirement already satisfied: async-timeout<5.0,>=4.0.0a3 in c:\\users\\archa\\anaconda3\\lib\\site-packages (from aiohttp>=3.7->ray[default]>=1.13.0->modin[all]) (4.0.2)\n",
      "Requirement already satisfied: charset-normalizer<3.0,>=2.0 in c:\\users\\archa\\anaconda3\\lib\\site-packages (from aiohttp>=3.7->ray[default]>=1.13.0->modin[all]) (2.0.4)\n",
      "Requirement already satisfied: yarl<2.0,>=1.0 in c:\\users\\archa\\anaconda3\\lib\\site-packages (from aiohttp>=3.7->ray[default]>=1.13.0->modin[all]) (1.8.2)\n",
      "Requirement already satisfied: urllib3<1.27,>=1.25.4 in c:\\users\\archa\\anaconda3\\lib\\site-packages (from botocore<1.27.0,>=1.26.4->boto3->modin[all]) (1.26.7)\n",
      "Requirement already satisfied: colorama in c:\\users\\archa\\anaconda3\\lib\\site-packages (from click>=6.6->distributed>=2.22.0->modin[all]) (0.4.4)\n",
      "Requirement already satisfied: six>=1.7 in c:\\users\\archa\\anaconda3\\lib\\site-packages (from gpustat>=1.0.0->ray[default]>=1.13.0->modin[all]) (1.16.0)\n",
      "Requirement already satisfied: blessed>=1.17.1 in c:\\users\\archa\\anaconda3\\lib\\site-packages (from gpustat>=1.0.0->ray[default]>=1.13.0->modin[all]) (1.19.1)\n",
      "Requirement already satisfied: nvidia-ml-py<=11.495.46,>=11.450.129 in c:\\users\\archa\\anaconda3\\lib\\site-packages (from gpustat>=1.0.0->ray[default]>=1.13.0->modin[all]) (11.495.46)\n",
      "Requirement already satisfied: ipython-genutils~=0.2.0 in c:\\users\\archa\\anaconda3\\lib\\site-packages (from ipywidgets>=7.0.0->modin-spreadsheet>=0.1.0->modin[all]) (0.2.0)\n",
      "Requirement already satisfied: jupyterlab-widgets>=1.0.0 in c:\\users\\archa\\anaconda3\\lib\\site-packages (from ipywidgets>=7.0.0->modin-spreadsheet>=0.1.0->modin[all]) (1.0.0)\n",
      "Requirement already satisfied: widgetsnbextension~=3.5.0 in c:\\users\\archa\\anaconda3\\lib\\site-packages (from ipywidgets>=7.0.0->modin-spreadsheet>=0.1.0->modin[all]) (3.5.1)\n",
      "Requirement already satisfied: traitlets>=4.3.1 in c:\\users\\archa\\anaconda3\\lib\\site-packages (from ipywidgets>=7.0.0->modin-spreadsheet>=0.1.0->modin[all]) (5.1.0)\n",
      "Requirement already satisfied: ipython>=4.0.0 in c:\\users\\archa\\anaconda3\\lib\\site-packages (from ipywidgets>=7.0.0->modin-spreadsheet>=0.1.0->modin[all]) (7.29.0)\n",
      "Requirement already satisfied: nbformat>=4.2.0 in c:\\users\\archa\\anaconda3\\lib\\site-packages (from ipywidgets>=7.0.0->modin-spreadsheet>=0.1.0->modin[all]) (5.1.3)\n",
      "Requirement already satisfied: ipykernel>=4.5.1 in c:\\users\\archa\\anaconda3\\lib\\site-packages (from ipywidgets>=7.0.0->modin-spreadsheet>=0.1.0->modin[all]) (6.4.1)\n",
      "Requirement already satisfied: qtconsole in c:\\users\\archa\\anaconda3\\lib\\site-packages (from jupyter>=1.0.0->modin-spreadsheet>=0.1.0->modin[all]) (5.1.1)\n",
      "Requirement already satisfied: nbconvert in c:\\users\\archa\\anaconda3\\lib\\site-packages (from jupyter>=1.0.0->modin-spreadsheet>=0.1.0->modin[all]) (6.1.0)\n",
      "Requirement already satisfied: jupyter-console in c:\\users\\archa\\anaconda3\\lib\\site-packages (from jupyter>=1.0.0->modin-spreadsheet>=0.1.0->modin[all]) (6.4.0)\n",
      "Requirement already satisfied: Send2Trash>=1.5.0 in c:\\users\\archa\\anaconda3\\lib\\site-packages (from notebook>=6.0.3->modin-spreadsheet>=0.1.0->modin[all]) (1.8.0)\n",
      "Requirement already satisfied: jupyter-core>=4.6.1 in c:\\users\\archa\\anaconda3\\lib\\site-packages (from notebook>=6.0.3->modin-spreadsheet>=0.1.0->modin[all]) (4.8.1)\n",
      "Requirement already satisfied: pyzmq>=17 in c:\\users\\archa\\anaconda3\\lib\\site-packages (from notebook>=6.0.3->modin-spreadsheet>=0.1.0->modin[all]) (22.2.1)\n",
      "Requirement already satisfied: jupyter-client>=5.3.4 in c:\\users\\archa\\anaconda3\\lib\\site-packages (from notebook>=6.0.3->modin-spreadsheet>=0.1.0->modin[all]) (6.1.12)\n",
      "Requirement already satisfied: terminado>=0.8.3 in c:\\users\\archa\\anaconda3\\lib\\site-packages (from notebook>=6.0.3->modin-spreadsheet>=0.1.0->modin[all]) (0.9.4)\n",
      "Requirement already satisfied: argon2-cffi in c:\\users\\archa\\anaconda3\\lib\\site-packages (from notebook>=6.0.3->modin-spreadsheet>=0.1.0->modin[all]) (20.1.0)\n",
      "Requirement already satisfied: locket in c:\\users\\archa\\anaconda3\\lib\\site-packages\\locket-0.2.1-py3.9.egg (from partd>=0.3.10->dask>=2.22.0->modin[all]) (0.2.1)\n",
      "Requirement already satisfied: distlib<1,>=0.3.6 in c:\\users\\archa\\anaconda3\\lib\\site-packages (from virtualenv>=20.0.24->ray[default]>=1.13.0->modin[all]) (0.3.6)\n",
      "Requirement already satisfied: platformdirs<3,>=2.4 in c:\\users\\archa\\anaconda3\\lib\\site-packages (from virtualenv>=20.0.24->ray[default]>=1.13.0->modin[all]) (2.6.2)\n",
      "Requirement already satisfied: heapdict in c:\\users\\archa\\anaconda3\\lib\\site-packages (from zict>=0.1.3->distributed>=2.22.0->modin[all]) (1.0.1)\n",
      "Requirement already satisfied: MarkupSafe>=0.23 in c:\\users\\archa\\anaconda3\\lib\\site-packages (from jinja2->distributed>=2.22.0->modin[all]) (1.1.1)\n",
      "Requirement already satisfied: pyrsistent>=0.14.0 in c:\\users\\archa\\anaconda3\\lib\\site-packages (from jsonschema->ray[default]>=1.13.0->modin[all]) (0.18.0)\n",
      "Requirement already satisfied: google-api-core<3.0.0,>=1.0.0 in c:\\users\\archa\\anaconda3\\lib\\site-packages (from opencensus->ray[default]>=1.13.0->modin[all]) (2.11.0)\n",
      "Requirement already satisfied: opencensus-context>=0.1.3 in c:\\users\\archa\\anaconda3\\lib\\site-packages (from opencensus->ray[default]>=1.13.0->modin[all]) (0.1.3)\n",
      "Requirement already satisfied: pywin32 in c:\\users\\archa\\anaconda3\\lib\\site-packages (from plumbum->rpyc==4.1.5->modin[all]) (227)\n",
      "Requirement already satisfied: typing-extensions>=4.2.0 in c:\\users\\archa\\anaconda3\\lib\\site-packages (from pydantic->ray[default]>=1.13.0->modin[all]) (4.4.0)\n",
      "Requirement already satisfied: certifi>=2017.4.17 in c:\\users\\archa\\anaconda3\\lib\\site-packages (from requests->ray[default]>=1.13.0->modin[all]) (2021.10.8)\n",
      "Requirement already satisfied: idna<4,>=2.5 in c:\\users\\archa\\anaconda3\\lib\\site-packages (from requests->ray[default]>=1.13.0->modin[all]) (3.2)\n",
      "Requirement already satisfied: jinxed>=1.1.0 in c:\\users\\archa\\anaconda3\\lib\\site-packages (from blessed>=1.17.1->gpustat>=1.0.0->ray[default]>=1.13.0->modin[all]) (1.2.0)\n",
      "Requirement already satisfied: wcwidth>=0.1.4 in c:\\users\\archa\\anaconda3\\lib\\site-packages (from blessed>=1.17.1->gpustat>=1.0.0->ray[default]>=1.13.0->modin[all]) (0.2.5)\n",
      "Requirement already satisfied: googleapis-common-protos<2.0dev,>=1.56.2 in c:\\users\\archa\\anaconda3\\lib\\site-packages (from google-api-core<3.0.0,>=1.0.0->opencensus->ray[default]>=1.13.0->modin[all]) (1.58.0)\n",
      "Requirement already satisfied: google-auth<3.0dev,>=2.14.1 in c:\\users\\archa\\anaconda3\\lib\\site-packages (from google-api-core<3.0.0,>=1.0.0->opencensus->ray[default]>=1.13.0->modin[all]) (2.16.0)\n",
      "Requirement already satisfied: debugpy<2.0,>=1.0.0 in c:\\users\\archa\\anaconda3\\lib\\site-packages (from ipykernel>=4.5.1->ipywidgets>=7.0.0->modin-spreadsheet>=0.1.0->modin[all]) (1.4.1)\n",
      "Requirement already satisfied: matplotlib-inline<0.2.0,>=0.1.0 in c:\\users\\archa\\anaconda3\\lib\\site-packages (from ipykernel>=4.5.1->ipywidgets>=7.0.0->modin-spreadsheet>=0.1.0->modin[all]) (0.1.2)\n",
      "Requirement already satisfied: jedi>=0.16 in c:\\users\\archa\\anaconda3\\lib\\site-packages (from ipython>=4.0.0->ipywidgets>=7.0.0->modin-spreadsheet>=0.1.0->modin[all]) (0.18.0)\n",
      "Requirement already satisfied: prompt-toolkit!=3.0.0,!=3.0.1,<3.1.0,>=2.0.0 in c:\\users\\archa\\anaconda3\\lib\\site-packages (from ipython>=4.0.0->ipywidgets>=7.0.0->modin-spreadsheet>=0.1.0->modin[all]) (3.0.20)\n",
      "Requirement already satisfied: decorator in c:\\users\\archa\\anaconda3\\lib\\site-packages (from ipython>=4.0.0->ipywidgets>=7.0.0->modin-spreadsheet>=0.1.0->modin[all]) (5.1.0)\n",
      "Requirement already satisfied: backcall in c:\\users\\archa\\anaconda3\\lib\\site-packages (from ipython>=4.0.0->ipywidgets>=7.0.0->modin-spreadsheet>=0.1.0->modin[all]) (0.2.0)\n",
      "Requirement already satisfied: pickleshare in c:\\users\\archa\\anaconda3\\lib\\site-packages (from ipython>=4.0.0->ipywidgets>=7.0.0->modin-spreadsheet>=0.1.0->modin[all]) (0.7.5)\n",
      "Requirement already satisfied: pygments in c:\\users\\archa\\anaconda3\\lib\\site-packages (from ipython>=4.0.0->ipywidgets>=7.0.0->modin-spreadsheet>=0.1.0->modin[all]) (2.10.0)\n",
      "Requirement already satisfied: pywinpty>=0.5 in c:\\users\\archa\\anaconda3\\lib\\site-packages (from terminado>=0.8.3->notebook>=6.0.3->modin-spreadsheet>=0.1.0->modin[all]) (0.5.7)\n",
      "Requirement already satisfied: cffi>=1.0.0 in c:\\users\\archa\\anaconda3\\lib\\site-packages (from argon2-cffi->notebook>=6.0.3->modin-spreadsheet>=0.1.0->modin[all]) (1.14.6)\n",
      "Requirement already satisfied: defusedxml in c:\\users\\archa\\anaconda3\\lib\\site-packages (from nbconvert->jupyter>=1.0.0->modin-spreadsheet>=0.1.0->modin[all]) (0.7.1)\n",
      "Requirement already satisfied: nbclient<0.6.0,>=0.5.0 in c:\\users\\archa\\anaconda3\\lib\\site-packages (from nbconvert->jupyter>=1.0.0->modin-spreadsheet>=0.1.0->modin[all]) (0.5.3)\n",
      "Requirement already satisfied: pandocfilters>=1.4.1 in c:\\users\\archa\\anaconda3\\lib\\site-packages (from nbconvert->jupyter>=1.0.0->modin-spreadsheet>=0.1.0->modin[all]) (1.4.3)\n",
      "Requirement already satisfied: bleach in c:\\users\\archa\\anaconda3\\lib\\site-packages (from nbconvert->jupyter>=1.0.0->modin-spreadsheet>=0.1.0->modin[all]) (4.0.0)\n",
      "Requirement already satisfied: jupyterlab-pygments in c:\\users\\archa\\anaconda3\\lib\\site-packages (from nbconvert->jupyter>=1.0.0->modin-spreadsheet>=0.1.0->modin[all]) (0.1.2)\n",
      "Requirement already satisfied: mistune<2,>=0.8.1 in c:\\users\\archa\\anaconda3\\lib\\site-packages (from nbconvert->jupyter>=1.0.0->modin-spreadsheet>=0.1.0->modin[all]) (0.8.4)\n",
      "Requirement already satisfied: testpath in c:\\users\\archa\\anaconda3\\lib\\site-packages (from nbconvert->jupyter>=1.0.0->modin-spreadsheet>=0.1.0->modin[all]) (0.5.0)\n",
      "Requirement already satisfied: entrypoints>=0.2.2 in c:\\users\\archa\\anaconda3\\lib\\site-packages (from nbconvert->jupyter>=1.0.0->modin-spreadsheet>=0.1.0->modin[all]) (0.3)\n",
      "Requirement already satisfied: qtpy in c:\\users\\archa\\anaconda3\\lib\\site-packages (from qtconsole->jupyter>=1.0.0->modin-spreadsheet>=0.1.0->modin[all]) (1.10.0)\n",
      "Requirement already satisfied: pycparser in c:\\users\\archa\\anaconda3\\lib\\site-packages (from cffi>=1.0.0->argon2-cffi->notebook>=6.0.3->modin-spreadsheet>=0.1.0->modin[all]) (2.20)\n",
      "Requirement already satisfied: rsa<5,>=3.1.4 in c:\\users\\archa\\anaconda3\\lib\\site-packages (from google-auth<3.0dev,>=2.14.1->google-api-core<3.0.0,>=1.0.0->opencensus->ray[default]>=1.13.0->modin[all]) (4.7.2)\n",
      "Requirement already satisfied: pyasn1-modules>=0.2.1 in c:\\users\\archa\\anaconda3\\lib\\site-packages (from google-auth<3.0dev,>=2.14.1->google-api-core<3.0.0,>=1.0.0->opencensus->ray[default]>=1.13.0->modin[all]) (0.2.8)\n",
      "Requirement already satisfied: cachetools<6.0,>=2.0.0 in c:\\users\\archa\\anaconda3\\lib\\site-packages (from google-auth<3.0dev,>=2.14.1->google-api-core<3.0.0,>=1.0.0->opencensus->ray[default]>=1.13.0->modin[all]) (5.0.0)\n",
      "Requirement already satisfied: parso<0.9.0,>=0.8.0 in c:\\users\\archa\\anaconda3\\lib\\site-packages (from jedi>=0.16->ipython>=4.0.0->ipywidgets>=7.0.0->modin-spreadsheet>=0.1.0->modin[all]) (0.8.2)\n",
      "Requirement already satisfied: ansicon in c:\\users\\archa\\anaconda3\\lib\\site-packages (from jinxed>=1.1.0->blessed>=1.17.1->gpustat>=1.0.0->ray[default]>=1.13.0->modin[all]) (1.89.0)\n",
      "Requirement already satisfied: async-generator in c:\\users\\archa\\anaconda3\\lib\\site-packages (from nbclient<0.6.0,>=0.5.0->nbconvert->jupyter>=1.0.0->modin-spreadsheet>=0.1.0->modin[all]) (1.10)\n",
      "Requirement already satisfied: nest-asyncio in c:\\users\\archa\\anaconda3\\lib\\site-packages (from nbclient<0.6.0,>=0.5.0->nbconvert->jupyter>=1.0.0->modin-spreadsheet>=0.1.0->modin[all]) (1.5.1)\n",
      "Requirement already satisfied: webencodings in c:\\users\\archa\\anaconda3\\lib\\site-packages (from bleach->nbconvert->jupyter>=1.0.0->modin-spreadsheet>=0.1.0->modin[all]) (0.5.1)\n",
      "Requirement already satisfied: pyasn1<0.5.0,>=0.4.6 in c:\\users\\archa\\anaconda3\\lib\\site-packages (from pyasn1-modules>=0.2.1->google-auth<3.0dev,>=2.14.1->google-api-core<3.0.0,>=1.0.0->opencensus->ray[default]>=1.13.0->modin[all]) (0.4.8)\n",
      "Installing collected packages: plumbum, mpi4py-mpich, unidist, rpyc, modin-spreadsheet\n",
      "Successfully installed modin-spreadsheet-0.1.2 mpi4py-mpich-3.1.2 plumbum-1.8.1 rpyc-4.1.5 unidist-0.2.1\n",
      "Note: you may need to restart the kernel to use updated packages.\n"
     ]
    },
    {
     "name": "stderr",
     "output_type": "stream",
     "text": [
      "WARNING: There was an error checking the latest version of pip.\n"
     ]
    }
   ],
   "source": [
    "pip install modin"
   ]
  },
  {
   "cell_type": "code",
   "execution_count": 3,
   "id": "90005f7e",
   "metadata": {},
   "outputs": [],
   "source": [
    "import modin.pandas as mpd"
   ]
  },
  {
   "cell_type": "code",
   "execution_count": 4,
   "id": "bda54188",
   "metadata": {},
   "outputs": [
    {
     "name": "stderr",
     "output_type": "stream",
     "text": [
      "2023-01-12 13:00:29,387\tINFO worker.py:1529 -- Started a local Ray instance. View the dashboard at \u001b[1m\u001b[32m127.0.0.1:8265 \u001b[39m\u001b[22m\n"
     ]
    },
    {
     "data": {
      "text/html": [
       "<div>\n",
       "    <div style=\"margin-left: 50px;display: flex;flex-direction: row;align-items: center\">\n",
       "        <h3 style=\"color: var(--jp-ui-font-color0)\">Ray</h3>\n",
       "        <svg version=\"1.1\" id=\"ray\" width=\"3em\" viewBox=\"0 0 144.5 144.6\" style=\"margin-left: 3em;margin-right: 3em\">\n",
       "            <g id=\"layer-1\">\n",
       "                <path fill=\"#00a2e9\" class=\"st0\" d=\"M97.3,77.2c-3.8-1.1-6.2,0.9-8.3,5.1c-3.5,6.8-9.9,9.9-17.4,9.6S58,88.1,54.8,81.2c-1.4-3-3-4-6.3-4.1\n",
       "                    c-5.6-0.1-9.9,0.1-13.1,6.4c-3.8,7.6-13.6,10.2-21.8,7.6C5.2,88.4-0.4,80.5,0,71.7c0.1-8.4,5.7-15.8,13.8-18.2\n",
       "                    c8.4-2.6,17.5,0.7,22.3,8c1.3,1.9,1.3,5.2,3.6,5.6c3.9,0.6,8,0.2,12,0.2c1.8,0,1.9-1.6,2.4-2.8c3.5-7.8,9.7-11.8,18-11.9\n",
       "                    c8.2-0.1,14.4,3.9,17.8,11.4c1.3,2.8,2.9,3.6,5.7,3.3c1-0.1,2,0.1,3,0c2.8-0.5,6.4,1.7,8.1-2.7s-2.3-5.5-4.1-7.5\n",
       "                    c-5.1-5.7-10.9-10.8-16.1-16.3C84,38,81.9,37.1,78,38.3C66.7,42,56.2,35.7,53,24.1C50.3,14,57.3,2.8,67.7,0.5\n",
       "                    C78.4-2,89,4.7,91.5,15.3c0.1,0.3,0.1,0.5,0.2,0.8c0.7,3.4,0.7,6.9-0.8,9.8c-1.7,3.2-0.8,5,1.5,7.2c6.7,6.5,13.3,13,19.8,19.7\n",
       "                    c1.8,1.8,3,2.1,5.5,1.2c9.1-3.4,17.9-0.6,23.4,7c4.8,6.9,4.6,16.1-0.4,22.9c-5.4,7.2-14.2,9.9-23.1,6.5c-2.3-0.9-3.5-0.6-5.1,1.1\n",
       "                    c-6.7,6.9-13.6,13.7-20.5,20.4c-1.8,1.8-2.5,3.2-1.4,5.9c3.5,8.7,0.3,18.6-7.7,23.6c-7.9,5-18.2,3.8-24.8-2.9\n",
       "                    c-6.4-6.4-7.4-16.2-2.5-24.3c4.9-7.8,14.5-11,23.1-7.8c3,1.1,4.7,0.5,6.9-1.7C91.7,98.4,98,92.3,104.2,86c1.6-1.6,4.1-2.7,2.6-6.2\n",
       "                    c-1.4-3.3-3.8-2.5-6.2-2.6C99.8,77.2,98.9,77.2,97.3,77.2z M72.1,29.7c5.5,0.1,9.9-4.3,10-9.8c0-0.1,0-0.2,0-0.3\n",
       "                    C81.8,14,77,9.8,71.5,10.2c-5,0.3-9,4.2-9.3,9.2c-0.2,5.5,4,10.1,9.5,10.3C71.8,29.7,72,29.7,72.1,29.7z M72.3,62.3\n",
       "                    c-5.4-0.1-9.9,4.2-10.1,9.7c0,0.2,0,0.3,0,0.5c0.2,5.4,4.5,9.7,9.9,10c5.1,0.1,9.9-4.7,10.1-9.8c0.2-5.5-4-10-9.5-10.3\n",
       "                    C72.6,62.3,72.4,62.3,72.3,62.3z M115,72.5c0.1,5.4,4.5,9.7,9.8,9.9c5.6-0.2,10-4.8,10-10.4c-0.2-5.4-4.6-9.7-10-9.7\n",
       "                    c-5.3-0.1-9.8,4.2-9.9,9.5C115,72.1,115,72.3,115,72.5z M19.5,62.3c-5.4,0.1-9.8,4.4-10,9.8c-0.1,5.1,5.2,10.4,10.2,10.3\n",
       "                    c5.6-0.2,10-4.9,9.8-10.5c-0.1-5.4-4.5-9.7-9.9-9.6C19.6,62.3,19.5,62.3,19.5,62.3z M71.8,134.6c5.9,0.2,10.3-3.9,10.4-9.6\n",
       "                    c0.5-5.5-3.6-10.4-9.1-10.8c-5.5-0.5-10.4,3.6-10.8,9.1c0,0.5,0,0.9,0,1.4c-0.2,5.3,4,9.8,9.3,10\n",
       "                    C71.6,134.6,71.7,134.6,71.8,134.6z\"/>\n",
       "            </g>\n",
       "        </svg>\n",
       "        <table>\n",
       "            <tr>\n",
       "                <td style=\"text-align: left\"><b>Python version:</b></td>\n",
       "                <td style=\"text-align: left\"><b>3.9.7</b></td>\n",
       "            </tr>\n",
       "            <tr>\n",
       "                <td style=\"text-align: left\"><b>Ray version:</b></td>\n",
       "                <td style=\"text-align: left\"><b> 2.2.0</b></td>\n",
       "            </tr>\n",
       "            <tr>\n",
       "    <td style=\"text-align: left\"><b>Dashboard:</b></td>\n",
       "    <td style=\"text-align: left\"><b><a href=\"http://127.0.0.1:8265\" target=\"_blank\">http://127.0.0.1:8265</a></b></td>\n",
       "</tr>\n",
       "\n",
       "        </table>\n",
       "    </div>\n",
       "</div>\n"
      ],
      "text/plain": [
       "RayContext(dashboard_url='127.0.0.1:8265', python_version='3.9.7', ray_version='2.2.0', ray_commit='b6af0887ee5f2e460202133791ad941a41f15beb', address_info={'node_ip_address': '127.0.0.1', 'raylet_ip_address': '127.0.0.1', 'redis_address': None, 'object_store_address': 'tcp://127.0.0.1:65507', 'raylet_socket_name': 'tcp://127.0.0.1:62575', 'webui_url': '127.0.0.1:8265', 'session_dir': 'C:\\\\Users\\\\archa\\\\AppData\\\\Local\\\\Temp\\\\ray\\\\session_2023-01-12_13-00-24_836582_22084', 'metrics_export_port': 58897, 'gcs_address': '127.0.0.1:56107', 'address': '127.0.0.1:56107', 'dashboard_agent_listen_port': 52365, 'node_id': '74e81a18e6bd5ec3167544b8de0d28eafa109749be18dcca81fc25a0'})"
      ]
     },
     "execution_count": 4,
     "metadata": {},
     "output_type": "execute_result"
    }
   ],
   "source": [
    "#with ray as the computation engine (https://modin.readthedocs.io/en/stable/)\n",
    "\n",
    "import ray\n",
    "ray.shutdown()\n",
    "ray.init(runtime_env={'env_vars': {'__MODIN_AUTOIMPORT_PANDAS__': '1'}})"
   ]
  },
  {
   "cell_type": "code",
   "execution_count": 5,
   "id": "808e006f",
   "metadata": {},
   "outputs": [
    {
     "name": "stdout",
     "output_type": "stream",
     "text": [
      "Wall time: 16.5 s\n"
     ]
    }
   ],
   "source": [
    "%%time\n",
    "mdf = mpd.read_csv('health_insurance.csv')"
   ]
  },
  {
   "cell_type": "markdown",
   "id": "a0012235",
   "metadata": {},
   "source": [
    "Reading the 2GB csv file took 16.5 s using modin with ray"
   ]
  },
  {
   "cell_type": "markdown",
   "id": "c0f0bf98",
   "metadata": {},
   "source": [
    "# Reading data with dask"
   ]
  },
  {
   "cell_type": "code",
   "execution_count": 7,
   "id": "f606da47",
   "metadata": {},
   "outputs": [],
   "source": [
    "# https://docs.dask.org/en/stable/generated/dask.dataframe.read_csv.html\n",
    "from dask import dataframe as dd"
   ]
  },
  {
   "cell_type": "code",
   "execution_count": 8,
   "id": "0d4c6a3a",
   "metadata": {},
   "outputs": [
    {
     "name": "stdout",
     "output_type": "stream",
     "text": [
      "Wall time: 13.8 ms\n"
     ]
    }
   ],
   "source": [
    "%%time\n",
    "dask_df = dd.read_csv('health_insurance.csv')"
   ]
  },
  {
   "cell_type": "markdown",
   "id": "9c7eec40",
   "metadata": {},
   "source": [
    "Dask is better than pandas and modin with computational time of 0.014 s, whereas the other two took 23.5 s and 16.5 s respectively"
   ]
  },
  {
   "cell_type": "markdown",
   "id": "7ec4761b",
   "metadata": {},
   "source": [
    "# Using Dask to read the file and performing ingestion"
   ]
  },
  {
   "cell_type": "code",
   "execution_count": 16,
   "id": "206b808a",
   "metadata": {
    "scrolled": true
   },
   "outputs": [
    {
     "data": {
      "text/html": [
       "<div>\n",
       "<style scoped>\n",
       "    .dataframe tbody tr th:only-of-type {\n",
       "        vertical-align: middle;\n",
       "    }\n",
       "\n",
       "    .dataframe tbody tr th {\n",
       "        vertical-align: top;\n",
       "    }\n",
       "\n",
       "    .dataframe thead th {\n",
       "        text-align: right;\n",
       "    }\n",
       "</style>\n",
       "<table border=\"1\" class=\"dataframe\">\n",
       "  <thead>\n",
       "    <tr style=\"text-align: right;\">\n",
       "      <th></th>\n",
       "      <th>BusinessYear</th>\n",
       "      <th>StateCode</th>\n",
       "      <th>IssuerId</th>\n",
       "      <th>SourceName</th>\n",
       "      <th>VersionNum</th>\n",
       "      <th>ImportDate</th>\n",
       "      <th>IssuerId2</th>\n",
       "      <th>FederalTIN</th>\n",
       "      <th>RateEffectiveDate</th>\n",
       "      <th>RateExpirationDate</th>\n",
       "      <th>...</th>\n",
       "      <th>IndividualRate</th>\n",
       "      <th>IndividualTobaccoRate</th>\n",
       "      <th>Couple</th>\n",
       "      <th>PrimarySubscriberAndOneDependent</th>\n",
       "      <th>PrimarySubscriberAndTwoDependents</th>\n",
       "      <th>PrimarySubscriberAndThreeOrMoreDependents</th>\n",
       "      <th>CoupleAndOneDependent</th>\n",
       "      <th>CoupleAndTwoDependents</th>\n",
       "      <th>CoupleAndThreeOrMoreDependents</th>\n",
       "      <th>RowNumber</th>\n",
       "    </tr>\n",
       "  </thead>\n",
       "  <tbody>\n",
       "    <tr>\n",
       "      <th>0</th>\n",
       "      <td>2014</td>\n",
       "      <td>AK</td>\n",
       "      <td>21989</td>\n",
       "      <td>HIOS</td>\n",
       "      <td>6</td>\n",
       "      <td>2014-03-19 07:06:49</td>\n",
       "      <td>21989</td>\n",
       "      <td>93-0438772</td>\n",
       "      <td>2014-01-01</td>\n",
       "      <td>2014-12-31</td>\n",
       "      <td>...</td>\n",
       "      <td>29.00</td>\n",
       "      <td>NaN</td>\n",
       "      <td>NaN</td>\n",
       "      <td>NaN</td>\n",
       "      <td>NaN</td>\n",
       "      <td>NaN</td>\n",
       "      <td>NaN</td>\n",
       "      <td>NaN</td>\n",
       "      <td>NaN</td>\n",
       "      <td>14</td>\n",
       "    </tr>\n",
       "    <tr>\n",
       "      <th>1</th>\n",
       "      <td>2014</td>\n",
       "      <td>AK</td>\n",
       "      <td>21989</td>\n",
       "      <td>HIOS</td>\n",
       "      <td>6</td>\n",
       "      <td>2014-03-19 07:06:49</td>\n",
       "      <td>21989</td>\n",
       "      <td>93-0438772</td>\n",
       "      <td>2014-01-01</td>\n",
       "      <td>2014-12-31</td>\n",
       "      <td>...</td>\n",
       "      <td>36.95</td>\n",
       "      <td>NaN</td>\n",
       "      <td>73.9</td>\n",
       "      <td>107.61</td>\n",
       "      <td>107.61</td>\n",
       "      <td>107.61</td>\n",
       "      <td>144.56</td>\n",
       "      <td>144.56</td>\n",
       "      <td>144.56</td>\n",
       "      <td>14</td>\n",
       "    </tr>\n",
       "    <tr>\n",
       "      <th>2</th>\n",
       "      <td>2014</td>\n",
       "      <td>AK</td>\n",
       "      <td>21989</td>\n",
       "      <td>HIOS</td>\n",
       "      <td>6</td>\n",
       "      <td>2014-03-19 07:06:49</td>\n",
       "      <td>21989</td>\n",
       "      <td>93-0438772</td>\n",
       "      <td>2014-01-01</td>\n",
       "      <td>2014-12-31</td>\n",
       "      <td>...</td>\n",
       "      <td>36.95</td>\n",
       "      <td>NaN</td>\n",
       "      <td>73.9</td>\n",
       "      <td>107.61</td>\n",
       "      <td>107.61</td>\n",
       "      <td>107.61</td>\n",
       "      <td>144.56</td>\n",
       "      <td>144.56</td>\n",
       "      <td>144.56</td>\n",
       "      <td>15</td>\n",
       "    </tr>\n",
       "    <tr>\n",
       "      <th>3</th>\n",
       "      <td>2014</td>\n",
       "      <td>AK</td>\n",
       "      <td>21989</td>\n",
       "      <td>HIOS</td>\n",
       "      <td>6</td>\n",
       "      <td>2014-03-19 07:06:49</td>\n",
       "      <td>21989</td>\n",
       "      <td>93-0438772</td>\n",
       "      <td>2014-01-01</td>\n",
       "      <td>2014-12-31</td>\n",
       "      <td>...</td>\n",
       "      <td>32.00</td>\n",
       "      <td>NaN</td>\n",
       "      <td>NaN</td>\n",
       "      <td>NaN</td>\n",
       "      <td>NaN</td>\n",
       "      <td>NaN</td>\n",
       "      <td>NaN</td>\n",
       "      <td>NaN</td>\n",
       "      <td>NaN</td>\n",
       "      <td>15</td>\n",
       "    </tr>\n",
       "    <tr>\n",
       "      <th>4</th>\n",
       "      <td>2014</td>\n",
       "      <td>AK</td>\n",
       "      <td>21989</td>\n",
       "      <td>HIOS</td>\n",
       "      <td>6</td>\n",
       "      <td>2014-03-19 07:06:49</td>\n",
       "      <td>21989</td>\n",
       "      <td>93-0438772</td>\n",
       "      <td>2014-01-01</td>\n",
       "      <td>2014-12-31</td>\n",
       "      <td>...</td>\n",
       "      <td>32.00</td>\n",
       "      <td>NaN</td>\n",
       "      <td>NaN</td>\n",
       "      <td>NaN</td>\n",
       "      <td>NaN</td>\n",
       "      <td>NaN</td>\n",
       "      <td>NaN</td>\n",
       "      <td>NaN</td>\n",
       "      <td>NaN</td>\n",
       "      <td>16</td>\n",
       "    </tr>\n",
       "  </tbody>\n",
       "</table>\n",
       "<p>5 rows × 24 columns</p>\n",
       "</div>"
      ],
      "text/plain": [
       "   BusinessYear StateCode  IssuerId SourceName  VersionNum  \\\n",
       "0          2014        AK     21989       HIOS           6   \n",
       "1          2014        AK     21989       HIOS           6   \n",
       "2          2014        AK     21989       HIOS           6   \n",
       "3          2014        AK     21989       HIOS           6   \n",
       "4          2014        AK     21989       HIOS           6   \n",
       "\n",
       "            ImportDate  IssuerId2  FederalTIN RateEffectiveDate  \\\n",
       "0  2014-03-19 07:06:49      21989  93-0438772        2014-01-01   \n",
       "1  2014-03-19 07:06:49      21989  93-0438772        2014-01-01   \n",
       "2  2014-03-19 07:06:49      21989  93-0438772        2014-01-01   \n",
       "3  2014-03-19 07:06:49      21989  93-0438772        2014-01-01   \n",
       "4  2014-03-19 07:06:49      21989  93-0438772        2014-01-01   \n",
       "\n",
       "  RateExpirationDate  ... IndividualRate IndividualTobaccoRate Couple  \\\n",
       "0         2014-12-31  ...          29.00                   NaN    NaN   \n",
       "1         2014-12-31  ...          36.95                   NaN   73.9   \n",
       "2         2014-12-31  ...          36.95                   NaN   73.9   \n",
       "3         2014-12-31  ...          32.00                   NaN    NaN   \n",
       "4         2014-12-31  ...          32.00                   NaN    NaN   \n",
       "\n",
       "  PrimarySubscriberAndOneDependent  PrimarySubscriberAndTwoDependents  \\\n",
       "0                              NaN                                NaN   \n",
       "1                           107.61                             107.61   \n",
       "2                           107.61                             107.61   \n",
       "3                              NaN                                NaN   \n",
       "4                              NaN                                NaN   \n",
       "\n",
       "   PrimarySubscriberAndThreeOrMoreDependents  CoupleAndOneDependent  \\\n",
       "0                                        NaN                    NaN   \n",
       "1                                     107.61                 144.56   \n",
       "2                                     107.61                 144.56   \n",
       "3                                        NaN                    NaN   \n",
       "4                                        NaN                    NaN   \n",
       "\n",
       "   CoupleAndTwoDependents  CoupleAndThreeOrMoreDependents  RowNumber  \n",
       "0                     NaN                             NaN         14  \n",
       "1                  144.56                          144.56         14  \n",
       "2                  144.56                          144.56         15  \n",
       "3                     NaN                             NaN         15  \n",
       "4                     NaN                             NaN         16  \n",
       "\n",
       "[5 rows x 24 columns]"
      ]
     },
     "execution_count": 16,
     "metadata": {},
     "output_type": "execute_result"
    }
   ],
   "source": [
    "dask_df = dd.read_csv('health_insurance.csv', delimiter = ',')\n",
    "dask_df.head()"
   ]
  },
  {
   "cell_type": "code",
   "execution_count": 13,
   "id": "ad098bab",
   "metadata": {},
   "outputs": [
    {
     "name": "stdout",
     "output_type": "stream",
     "text": [
      "<class 'dask.dataframe.core.DataFrame'>\n",
      "Columns: 24 entries, BusinessYear to RowNumber\n",
      "dtypes: object(10), float64(9), int64(5)"
     ]
    },
    {
     "name": "stderr",
     "output_type": "stream",
     "text": [
      "FutureWarning: iteritems is deprecated and will be removed in a future version. Use .items instead.\n"
     ]
    }
   ],
   "source": [
    "dask_df.info()"
   ]
  },
  {
   "cell_type": "code",
   "execution_count": 20,
   "id": "599cf7e3",
   "metadata": {},
   "outputs": [
    {
     "name": "stdout",
     "output_type": "stream",
     "text": [
      "Number of rows:  12694445\n",
      "Number of columns : 24\n"
     ]
    }
   ],
   "source": [
    "print(\"Number of rows: \", len(dask_df.index))\n",
    "print(\"Number of columns : {}\".format(len(dask_df.columns)))"
   ]
  },
  {
   "cell_type": "code",
   "execution_count": 14,
   "id": "7b5745f0",
   "metadata": {},
   "outputs": [
    {
     "data": {
      "text/plain": [
       "Index(['BusinessYear', 'StateCode', 'IssuerId', 'SourceName', 'VersionNum',\n",
       "       'ImportDate', 'IssuerId2', 'FederalTIN', 'RateEffectiveDate',\n",
       "       'RateExpirationDate', 'PlanId', 'RatingAreaId', 'Tobacco', 'Age',\n",
       "       'IndividualRate', 'IndividualTobaccoRate', 'Couple',\n",
       "       'PrimarySubscriberAndOneDependent', 'PrimarySubscriberAndTwoDependents',\n",
       "       'PrimarySubscriberAndThreeOrMoreDependents', 'CoupleAndOneDependent',\n",
       "       'CoupleAndTwoDependents', 'CoupleAndThreeOrMoreDependents',\n",
       "       'RowNumber'],\n",
       "      dtype='object')"
      ]
     },
     "execution_count": 14,
     "metadata": {},
     "output_type": "execute_result"
    }
   ],
   "source": [
    "dask_df.columns"
   ]
  },
  {
   "cell_type": "markdown",
   "id": "7f1f984e",
   "metadata": {},
   "source": [
    "There are no special characters or white spaces in the column names, however, they can be removed as follows"
   ]
  },
  {
   "cell_type": "code",
   "execution_count": 21,
   "id": "1a84738e",
   "metadata": {},
   "outputs": [],
   "source": [
    "# remove special character\n",
    "dask_df.columns=dask_df.columns.str.replace('\\W','',regex=True)\n",
    "\n",
    "#To remove white space from columns\n",
    "dask_df.columns = dask_df.columns.str.replace(' ', '')"
   ]
  },
  {
   "cell_type": "code",
   "execution_count": 22,
   "id": "e76fee31",
   "metadata": {},
   "outputs": [
    {
     "data": {
      "text/plain": [
       "Index(['BusinessYear', 'StateCode', 'IssuerId', 'SourceName', 'VersionNum',\n",
       "       'ImportDate', 'IssuerId2', 'FederalTIN', 'RateEffectiveDate',\n",
       "       'RateExpirationDate', 'PlanId', 'RatingAreaId', 'Tobacco', 'Age',\n",
       "       'IndividualRate', 'IndividualTobaccoRate', 'Couple',\n",
       "       'PrimarySubscriberAndOneDependent', 'PrimarySubscriberAndTwoDependents',\n",
       "       'PrimarySubscriberAndThreeOrMoreDependents', 'CoupleAndOneDependent',\n",
       "       'CoupleAndTwoDependents', 'CoupleAndThreeOrMoreDependents',\n",
       "       'RowNumber'],\n",
       "      dtype='object')"
      ]
     },
     "execution_count": 22,
     "metadata": {},
     "output_type": "execute_result"
    }
   ],
   "source": [
    "dask_df.columns"
   ]
  },
  {
   "cell_type": "markdown",
   "id": "d81af24a",
   "metadata": {},
   "source": [
    "# Creating utility file"
   ]
  },
  {
   "cell_type": "code",
   "execution_count": 23,
   "id": "dac6a0a5",
   "metadata": {},
   "outputs": [
    {
     "name": "stdout",
     "output_type": "stream",
     "text": [
      "Writing utility.py\n"
     ]
    }
   ],
   "source": [
    "%%writefile utility.py\n",
    "import logging\n",
    "import os\n",
    "import subprocess\n",
    "import yaml\n",
    "import pandas as pd\n",
    "import datetime \n",
    "import gc\n",
    "import re\n",
    "\n",
    "\n",
    "################\n",
    "# File Reading #\n",
    "################\n",
    "\n",
    "def read_config_file(filepath):\n",
    "    with open(filepath, 'r') as stream:\n",
    "        try:\n",
    "            return yaml.safe_load(stream)\n",
    "        except yaml.YAMLError as exc:\n",
    "            logging.error(exc)\n",
    "\n",
    "\n",
    "def replacer(string, char):\n",
    "    pattern = char + '{2,}'\n",
    "    string = re.sub(pattern, char, string) \n",
    "    return string\n",
    "\n",
    "def col_header_val(df,table_config):\n",
    "    '''\n",
    "    replace whitespaces in the column\n",
    "    and standardized column names\n",
    "    '''\n",
    "    df.columns = df.columns.str.lower()\n",
    "    df.columns = df.columns.str.replace('[^\\w]','_',regex=True)\n",
    "    df.columns = list(map(lambda x: x.strip('_'), list(df.columns)))\n",
    "    df.columns = list(map(lambda x: replacer(x,'_'), list(df.columns)))\n",
    "    expected_col = list(map(lambda x: x.lower(),  table_config['columns']))\n",
    "    expected_col.sort()\n",
    "    df.columns =list(map(lambda x: x.lower(), list(df.columns)))\n",
    "    df = df.reindex(sorted(df.columns), axis=1)\n",
    "    if len(df.columns) == len(expected_col) and list(expected_col)  == list(df.columns):\n",
    "        print(\"column name and column length validation passed\")\n",
    "        return 1\n",
    "    else:\n",
    "        print(\"column name and column length validation failed\")\n",
    "        mismatched_columns_file = list(set(df.columns).difference(expected_col))\n",
    "        print(\"Following File columns are not in the YAML file\",mismatched_columns_file)\n",
    "        missing_YAML_file = list(set(expected_col).difference(df.columns))\n",
    "        print(\"Following YAML columns are not in the file uploaded\",missing_YAML_file)\n",
    "        logging.info(f'df columns: {df.columns}')\n",
    "        logging.info(f'expected columns: {expected_col}')\n",
    "        return 0"
   ]
  },
  {
   "cell_type": "code",
   "execution_count": 24,
   "id": "8f7e4f06",
   "metadata": {},
   "outputs": [
    {
     "name": "stdout",
     "output_type": "stream",
     "text": [
      "Writing file.yaml\n"
     ]
    }
   ],
   "source": [
    "%%writefile file.yaml\n",
    "file_type: csv\n",
    "dataset_name: testfile\n",
    "file_name: health_insurance\n",
    "table_name: edsurv\n",
    "inbound_delimiter: \",\"\n",
    "outbound_delimiter: \"|\"\n",
    "skip_leading_rows: 1\n",
    "columns: \n",
    "    - BusinessYear\n",
    "    - StateCode\n",
    "    - IssuerId\n",
    "    - SourceName\n",
    "    - VersionNum\n",
    "    - ImportDate\n",
    "    - IssuerId2\n",
    "    - FederalTIN\n",
    "    - RateEffectiveDate\n",
    "    - RateExpirationDate\n",
    "    - PlanId\n",
    "    - RatingAreaId\n",
    "    - Tobacco\n",
    "    - Age\n",
    "    - IndividualRate\n",
    "    - IndividualTobaccoRate\n",
    "    - Couple\n",
    "    - PrimarySubscriberAndOneDependent\n",
    "    - PrimarySubscriberAndTwoDependents\n",
    "    - PrimarySubscriberAndThreeOrMoreDependents\n",
    "    - CoupleAndOneDependent\n",
    "    - CoupleAndTwoDependents\n",
    "    - CoupleAndThreeOrMoreDependents\n",
    "    - RowNumber"
   ]
  },
  {
   "cell_type": "code",
   "execution_count": 25,
   "id": "a723a47a",
   "metadata": {
    "scrolled": true
   },
   "outputs": [
    {
     "data": {
      "text/plain": [
       "{'file_type': 'csv',\n",
       " 'dataset_name': 'testfile',\n",
       " 'file_name': 'health_insurance',\n",
       " 'table_name': 'edsurv',\n",
       " 'inbound_delimiter': ',',\n",
       " 'outbound_delimiter': '|',\n",
       " 'skip_leading_rows': 1,\n",
       " 'columns': ['BusinessYear',\n",
       "  'StateCode',\n",
       "  'IssuerId',\n",
       "  'SourceName',\n",
       "  'VersionNum',\n",
       "  'ImportDate',\n",
       "  'IssuerId2',\n",
       "  'FederalTIN',\n",
       "  'RateEffectiveDate',\n",
       "  'RateExpirationDate',\n",
       "  'PlanId',\n",
       "  'RatingAreaId',\n",
       "  'Tobacco',\n",
       "  'Age',\n",
       "  'IndividualRate',\n",
       "  'IndividualTobaccoRate',\n",
       "  'Couple',\n",
       "  'PrimarySubscriberAndOneDependent',\n",
       "  'PrimarySubscriberAndTwoDependents',\n",
       "  'PrimarySubscriberAndThreeOrMoreDependents',\n",
       "  'CoupleAndOneDependent',\n",
       "  'CoupleAndTwoDependents',\n",
       "  'CoupleAndThreeOrMoreDependents',\n",
       "  'RowNumber']}"
      ]
     },
     "execution_count": 25,
     "metadata": {},
     "output_type": "execute_result"
    }
   ],
   "source": [
    "# Read config file\n",
    "import utility as util\n",
    "config_data = util.read_config_file(\"file.yaml\")\n",
    "config_data"
   ]
  },
  {
   "cell_type": "code",
   "execution_count": 26,
   "id": "475cc7fc",
   "metadata": {},
   "outputs": [
    {
     "data": {
      "text/plain": [
       "'health_insurance'"
      ]
     },
     "execution_count": 26,
     "metadata": {},
     "output_type": "execute_result"
    }
   ],
   "source": [
    "config_data['file_name']"
   ]
  },
  {
   "cell_type": "code",
   "execution_count": 30,
   "id": "65418507",
   "metadata": {
    "scrolled": true
   },
   "outputs": [
    {
     "name": "stdout",
     "output_type": "stream",
     "text": [
      "./health_insurance.csv\n"
     ]
    },
    {
     "name": "stderr",
     "output_type": "stream",
     "text": [
      "FutureWarning: In a future version of pandas all arguments of read_csv except for the argument 'filepath_or_buffer' will be keyword-only.\n"
     ]
    },
    {
     "data": {
      "text/html": [
       "<div>\n",
       "<style scoped>\n",
       "    .dataframe tbody tr th:only-of-type {\n",
       "        vertical-align: middle;\n",
       "    }\n",
       "\n",
       "    .dataframe tbody tr th {\n",
       "        vertical-align: top;\n",
       "    }\n",
       "\n",
       "    .dataframe thead th {\n",
       "        text-align: right;\n",
       "    }\n",
       "</style>\n",
       "<table border=\"1\" class=\"dataframe\">\n",
       "  <thead>\n",
       "    <tr style=\"text-align: right;\">\n",
       "      <th></th>\n",
       "      <th>BusinessYear</th>\n",
       "      <th>StateCode</th>\n",
       "      <th>IssuerId</th>\n",
       "      <th>SourceName</th>\n",
       "      <th>VersionNum</th>\n",
       "      <th>ImportDate</th>\n",
       "      <th>IssuerId2</th>\n",
       "      <th>FederalTIN</th>\n",
       "      <th>RateEffectiveDate</th>\n",
       "      <th>RateExpirationDate</th>\n",
       "      <th>...</th>\n",
       "      <th>IndividualRate</th>\n",
       "      <th>IndividualTobaccoRate</th>\n",
       "      <th>Couple</th>\n",
       "      <th>PrimarySubscriberAndOneDependent</th>\n",
       "      <th>PrimarySubscriberAndTwoDependents</th>\n",
       "      <th>PrimarySubscriberAndThreeOrMoreDependents</th>\n",
       "      <th>CoupleAndOneDependent</th>\n",
       "      <th>CoupleAndTwoDependents</th>\n",
       "      <th>CoupleAndThreeOrMoreDependents</th>\n",
       "      <th>RowNumber</th>\n",
       "    </tr>\n",
       "  </thead>\n",
       "  <tbody>\n",
       "    <tr>\n",
       "      <th>0</th>\n",
       "      <td>2014</td>\n",
       "      <td>AK</td>\n",
       "      <td>21989</td>\n",
       "      <td>HIOS</td>\n",
       "      <td>6</td>\n",
       "      <td>2014-03-19 07:06:49</td>\n",
       "      <td>21989</td>\n",
       "      <td>93-0438772</td>\n",
       "      <td>2014-01-01</td>\n",
       "      <td>2014-12-31</td>\n",
       "      <td>...</td>\n",
       "      <td>29.00</td>\n",
       "      <td>NaN</td>\n",
       "      <td>NaN</td>\n",
       "      <td>NaN</td>\n",
       "      <td>NaN</td>\n",
       "      <td>NaN</td>\n",
       "      <td>NaN</td>\n",
       "      <td>NaN</td>\n",
       "      <td>NaN</td>\n",
       "      <td>14</td>\n",
       "    </tr>\n",
       "    <tr>\n",
       "      <th>1</th>\n",
       "      <td>2014</td>\n",
       "      <td>AK</td>\n",
       "      <td>21989</td>\n",
       "      <td>HIOS</td>\n",
       "      <td>6</td>\n",
       "      <td>2014-03-19 07:06:49</td>\n",
       "      <td>21989</td>\n",
       "      <td>93-0438772</td>\n",
       "      <td>2014-01-01</td>\n",
       "      <td>2014-12-31</td>\n",
       "      <td>...</td>\n",
       "      <td>36.95</td>\n",
       "      <td>NaN</td>\n",
       "      <td>73.9</td>\n",
       "      <td>107.61</td>\n",
       "      <td>107.61</td>\n",
       "      <td>107.61</td>\n",
       "      <td>144.56</td>\n",
       "      <td>144.56</td>\n",
       "      <td>144.56</td>\n",
       "      <td>14</td>\n",
       "    </tr>\n",
       "    <tr>\n",
       "      <th>2</th>\n",
       "      <td>2014</td>\n",
       "      <td>AK</td>\n",
       "      <td>21989</td>\n",
       "      <td>HIOS</td>\n",
       "      <td>6</td>\n",
       "      <td>2014-03-19 07:06:49</td>\n",
       "      <td>21989</td>\n",
       "      <td>93-0438772</td>\n",
       "      <td>2014-01-01</td>\n",
       "      <td>2014-12-31</td>\n",
       "      <td>...</td>\n",
       "      <td>36.95</td>\n",
       "      <td>NaN</td>\n",
       "      <td>73.9</td>\n",
       "      <td>107.61</td>\n",
       "      <td>107.61</td>\n",
       "      <td>107.61</td>\n",
       "      <td>144.56</td>\n",
       "      <td>144.56</td>\n",
       "      <td>144.56</td>\n",
       "      <td>15</td>\n",
       "    </tr>\n",
       "    <tr>\n",
       "      <th>3</th>\n",
       "      <td>2014</td>\n",
       "      <td>AK</td>\n",
       "      <td>21989</td>\n",
       "      <td>HIOS</td>\n",
       "      <td>6</td>\n",
       "      <td>2014-03-19 07:06:49</td>\n",
       "      <td>21989</td>\n",
       "      <td>93-0438772</td>\n",
       "      <td>2014-01-01</td>\n",
       "      <td>2014-12-31</td>\n",
       "      <td>...</td>\n",
       "      <td>32.00</td>\n",
       "      <td>NaN</td>\n",
       "      <td>NaN</td>\n",
       "      <td>NaN</td>\n",
       "      <td>NaN</td>\n",
       "      <td>NaN</td>\n",
       "      <td>NaN</td>\n",
       "      <td>NaN</td>\n",
       "      <td>NaN</td>\n",
       "      <td>15</td>\n",
       "    </tr>\n",
       "    <tr>\n",
       "      <th>4</th>\n",
       "      <td>2014</td>\n",
       "      <td>AK</td>\n",
       "      <td>21989</td>\n",
       "      <td>HIOS</td>\n",
       "      <td>6</td>\n",
       "      <td>2014-03-19 07:06:49</td>\n",
       "      <td>21989</td>\n",
       "      <td>93-0438772</td>\n",
       "      <td>2014-01-01</td>\n",
       "      <td>2014-12-31</td>\n",
       "      <td>...</td>\n",
       "      <td>32.00</td>\n",
       "      <td>NaN</td>\n",
       "      <td>NaN</td>\n",
       "      <td>NaN</td>\n",
       "      <td>NaN</td>\n",
       "      <td>NaN</td>\n",
       "      <td>NaN</td>\n",
       "      <td>NaN</td>\n",
       "      <td>NaN</td>\n",
       "      <td>16</td>\n",
       "    </tr>\n",
       "  </tbody>\n",
       "</table>\n",
       "<p>5 rows × 24 columns</p>\n",
       "</div>"
      ],
      "text/plain": [
       "   BusinessYear StateCode  IssuerId SourceName  VersionNum  \\\n",
       "0          2014        AK     21989       HIOS           6   \n",
       "1          2014        AK     21989       HIOS           6   \n",
       "2          2014        AK     21989       HIOS           6   \n",
       "3          2014        AK     21989       HIOS           6   \n",
       "4          2014        AK     21989       HIOS           6   \n",
       "\n",
       "            ImportDate  IssuerId2  FederalTIN RateEffectiveDate  \\\n",
       "0  2014-03-19 07:06:49      21989  93-0438772        2014-01-01   \n",
       "1  2014-03-19 07:06:49      21989  93-0438772        2014-01-01   \n",
       "2  2014-03-19 07:06:49      21989  93-0438772        2014-01-01   \n",
       "3  2014-03-19 07:06:49      21989  93-0438772        2014-01-01   \n",
       "4  2014-03-19 07:06:49      21989  93-0438772        2014-01-01   \n",
       "\n",
       "  RateExpirationDate  ... IndividualRate IndividualTobaccoRate Couple  \\\n",
       "0         2014-12-31  ...          29.00                   NaN    NaN   \n",
       "1         2014-12-31  ...          36.95                   NaN   73.9   \n",
       "2         2014-12-31  ...          36.95                   NaN   73.9   \n",
       "3         2014-12-31  ...          32.00                   NaN    NaN   \n",
       "4         2014-12-31  ...          32.00                   NaN    NaN   \n",
       "\n",
       "  PrimarySubscriberAndOneDependent  PrimarySubscriberAndTwoDependents  \\\n",
       "0                              NaN                                NaN   \n",
       "1                           107.61                             107.61   \n",
       "2                           107.61                             107.61   \n",
       "3                              NaN                                NaN   \n",
       "4                              NaN                                NaN   \n",
       "\n",
       "   PrimarySubscriberAndThreeOrMoreDependents  CoupleAndOneDependent  \\\n",
       "0                                        NaN                    NaN   \n",
       "1                                     107.61                 144.56   \n",
       "2                                     107.61                 144.56   \n",
       "3                                        NaN                    NaN   \n",
       "4                                        NaN                    NaN   \n",
       "\n",
       "   CoupleAndTwoDependents  CoupleAndThreeOrMoreDependents  RowNumber  \n",
       "0                     NaN                             NaN         14  \n",
       "1                  144.56                          144.56         14  \n",
       "2                  144.56                          144.56         15  \n",
       "3                     NaN                             NaN         15  \n",
       "4                     NaN                             NaN         16  \n",
       "\n",
       "[5 rows x 24 columns]"
      ]
     },
     "execution_count": 30,
     "metadata": {},
     "output_type": "execute_result"
    }
   ],
   "source": [
    "# read the csv file using config file with dask \n",
    "file_type = config_data['file_type']\n",
    "source_file = \"./\" + config_data['file_name'] + f'.{file_type}'\n",
    "print(source_file)\n",
    "df = pd.read_csv(source_file,config_data['inbound_delimiter'])\n",
    "df.head()"
   ]
  },
  {
   "cell_type": "code",
   "execution_count": 31,
   "id": "cb11b001",
   "metadata": {},
   "outputs": [
    {
     "name": "stdout",
     "output_type": "stream",
     "text": [
      "column name and column length validation passed\n"
     ]
    },
    {
     "data": {
      "text/plain": [
       "1"
      ]
     },
     "execution_count": 31,
     "metadata": {},
     "output_type": "execute_result"
    }
   ],
   "source": [
    "#validating the header of the file\n",
    "util.col_header_val(df,config_data)"
   ]
  },
  {
   "cell_type": "code",
   "execution_count": 32,
   "id": "7dee35a2",
   "metadata": {},
   "outputs": [
    {
     "name": "stdout",
     "output_type": "stream",
     "text": [
      "columns of files are: Index(['BusinessYear', 'StateCode', 'IssuerId', 'SourceName', 'VersionNum',\n",
      "       'ImportDate', 'IssuerId2', 'FederalTIN', 'RateEffectiveDate',\n",
      "       'RateExpirationDate', 'PlanId', 'RatingAreaId', 'Tobacco', 'Age',\n",
      "       'IndividualRate', 'IndividualTobaccoRate', 'Couple',\n",
      "       'PrimarySubscriberAndOneDependent', 'PrimarySubscriberAndTwoDependents',\n",
      "       'PrimarySubscriberAndThreeOrMoreDependents', 'CoupleAndOneDependent',\n",
      "       'CoupleAndTwoDependents', 'CoupleAndThreeOrMoreDependents',\n",
      "       'RowNumber'],\n",
      "      dtype='object')\n",
      "columns of YAML are: ['BusinessYear', 'StateCode', 'IssuerId', 'SourceName', 'VersionNum', 'ImportDate', 'IssuerId2', 'FederalTIN', 'RateEffectiveDate', 'RateExpirationDate', 'PlanId', 'RatingAreaId', 'Tobacco', 'Age', 'IndividualRate', 'IndividualTobaccoRate', 'Couple', 'PrimarySubscriberAndOneDependent', 'PrimarySubscriberAndTwoDependents', 'PrimarySubscriberAndThreeOrMoreDependents', 'CoupleAndOneDependent', 'CoupleAndTwoDependents', 'CoupleAndThreeOrMoreDependents', 'RowNumber']\n"
     ]
    }
   ],
   "source": [
    "print(\"columns of files are:\" ,dask_df.columns)\n",
    "print(\"columns of YAML are:\" ,config_data['columns'])"
   ]
  },
  {
   "cell_type": "markdown",
   "id": "f5bafff8",
   "metadata": {},
   "source": [
    "# Write the file in pipe separated text file (|) in gz format"
   ]
  },
  {
   "cell_type": "code",
   "execution_count": 33,
   "id": "921ea98e",
   "metadata": {},
   "outputs": [],
   "source": [
    "dask_df.to_csv(\"health_insurance.gz\", sep = '|', index = False)"
   ]
  },
  {
   "cell_type": "code",
   "execution_count": 42,
   "id": "d9ad2e28",
   "metadata": {},
   "outputs": [
    {
     "data": {
      "text/plain": [
       "31"
      ]
     },
     "execution_count": 42,
     "metadata": {},
     "output_type": "execute_result"
    }
   ],
   "source": [
    "#number of files in gz format folder\n",
    "\n",
    "entries = os.listdir('health_insurance.gz')\n",
    "len(entries)"
   ]
  },
  {
   "cell_type": "code",
   "execution_count": 35,
   "id": "a4b29a9f",
   "metadata": {},
   "outputs": [
    {
     "data": {
      "text/plain": [
       "12288"
      ]
     },
     "execution_count": 35,
     "metadata": {},
     "output_type": "execute_result"
    }
   ],
   "source": [
    "#size of the gz format folder\n",
    "import os as os\n",
    "os.path.getsize('health_insurance.gz')"
   ]
  }
 ],
 "metadata": {
  "kernelspec": {
   "display_name": "Python 3 (ipykernel)",
   "language": "python",
   "name": "python3"
  },
  "language_info": {
   "codemirror_mode": {
    "name": "ipython",
    "version": 3
   },
   "file_extension": ".py",
   "mimetype": "text/x-python",
   "name": "python",
   "nbconvert_exporter": "python",
   "pygments_lexer": "ipython3",
   "version": "3.9.7"
  }
 },
 "nbformat": 4,
 "nbformat_minor": 5
}
